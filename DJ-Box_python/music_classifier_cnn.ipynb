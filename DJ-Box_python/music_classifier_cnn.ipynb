{
 "cells": [
  {
   "cell_type": "code",
   "execution_count": 18,
   "metadata": {},
   "outputs": [],
   "source": [
    "import numpy as np\n",
    "import pandas as pd\n",
    "import matplotlib.pyplot as plt\n",
    "import os\n",
    "import json\n",
    "from sklearn.model_selection import train_test_split\n",
    "from sklearn.preprocessing import StandardScaler\n",
    "from sklearn.preprocessing import LabelEncoder\n",
    "import tensorflow.keras as keras\n",
    "import tensorflow as tf\n",
    "import coremltools as ct"
   ]
  },
  {
   "cell_type": "code",
   "execution_count": 19,
   "metadata": {
    "execution": {
     "iopub.execute_input": "2023-05-28T12:24:56.641722Z",
     "iopub.status.busy": "2023-05-28T12:24:56.641337Z",
     "iopub.status.idle": "2023-05-28T12:24:56.647898Z",
     "shell.execute_reply": "2023-05-28T12:24:56.647055Z",
     "shell.execute_reply.started": "2023-05-28T12:24:56.641694Z"
    }
   },
   "outputs": [],
   "source": [
    "def LoadDataset(dataset_path):\n",
    "    \n",
    "    # 載入帶有標籤的 dataset\n",
    "    df = pd.read_csv(dataset_path)\n",
    "    df = df.drop(labels=\"filename\", axis=1)\n",
    "    \n",
    "    # 取得 features, labels\n",
    "    labels = df.iloc[:,-1]\n",
    "    features = df.iloc[:, :-1]\n",
    "    \n",
    "    return features, labels"
   ]
  },
  {
   "cell_type": "code",
   "execution_count": 20,
   "metadata": {
    "execution": {
     "iopub.execute_input": "2023-05-28T12:25:00.718757Z",
     "iopub.status.busy": "2023-05-28T12:25:00.717701Z",
     "iopub.status.idle": "2023-05-28T12:25:05.754216Z",
     "shell.execute_reply": "2023-05-28T12:25:05.752655Z",
     "shell.execute_reply.started": "2023-05-28T12:25:00.718717Z"
    }
   },
   "outputs": [],
   "source": [
    "def CNN(X_train):\n",
    "    \n",
    "    # 建立神經網絡架構\n",
    "    model=keras.models.Sequential([\n",
    "        keras.layers.Flatten(input_shape=(X.shape[1],)),\n",
    "        keras.layers.Dropout(0.2),\n",
    "\n",
    "        keras.layers.Dense(512, activation='relu'),\n",
    "        keras.layers.Dropout(0.2),\n",
    "\n",
    "        keras.layers.Dense(256, activation='relu'),\n",
    "        keras.layers.Dropout(0.2),\n",
    "\n",
    "        keras.layers.Dense(128, activation='relu'),\n",
    "        keras.layers.Dropout(0.2),\n",
    "\n",
    "        keras.layers.Dense(64, activation='relu'),\n",
    "        keras.layers.Dropout(0.2),\n",
    "\n",
    "        keras.layers.Dense(32, activation='relu'),\n",
    "        keras.layers.Dropout(0.2),\n",
    "\n",
    "        keras.layers.Dense(4, activation='softmax'),\n",
    "    ])\n",
    "\n",
    "    return model"
   ]
  },
  {
   "cell_type": "code",
   "execution_count": 21,
   "metadata": {},
   "outputs": [],
   "source": [
    "def ValidationPlot(history):\n",
    "    print(\"Validation Accuracy\",max(history.history[\"val_accuracy\"]))\n",
    "    pd.DataFrame(history.history).plot(figsize=(12,6))\n",
    "    plt.show()"
   ]
  },
  {
   "cell_type": "code",
   "execution_count": 22,
   "metadata": {},
   "outputs": [],
   "source": [
    "def SamepleTest(model, X, y):\n",
    "    # 執行預測\n",
    "    prediction = model.predict(X)\n",
    "\n",
    "    # get index with max value\n",
    "    predicted_index = np.argmax(prediction, axis=1)\n",
    "\n",
    "    print(\"Expected label: {}, Predicted label: {}\".format(y, predicted_index))"
   ]
  },
  {
   "cell_type": "code",
   "execution_count": 23,
   "metadata": {},
   "outputs": [
    {
     "name": "stderr",
     "output_type": "stream",
     "text": [
      "WARNING:absl:At this time, the v2.11+ optimizer `tf.keras.optimizers.Adam` runs slowly on M1/M2 Macs, please use the legacy Keras optimizer instead, located at `tf.keras.optimizers.legacy.Adam`.\n",
      "WARNING:absl:There is a known slowdown when using v2.11+ Keras optimizers on M1/M2 Macs. Falling back to the legacy Keras optimizer, i.e., `tf.keras.optimizers.legacy.Adam`.\n"
     ]
    },
    {
     "name": "stdout",
     "output_type": "stream",
     "text": [
      "Model: \"sequential_2\"\n",
      "_________________________________________________________________\n",
      " Layer (type)                Output Shape              Param #   \n",
      "=================================================================\n",
      " flatten_2 (Flatten)         (None, 40)                0         \n",
      "                                                                 \n",
      " dropout_12 (Dropout)        (None, 40)                0         \n",
      "                                                                 \n",
      " dense_12 (Dense)            (None, 512)               20992     \n",
      "                                                                 \n",
      " dropout_13 (Dropout)        (None, 512)               0         \n",
      "                                                                 \n",
      " dense_13 (Dense)            (None, 256)               131328    \n",
      "                                                                 \n",
      " dropout_14 (Dropout)        (None, 256)               0         \n",
      "                                                                 \n",
      " dense_14 (Dense)            (None, 128)               32896     \n",
      "                                                                 \n",
      " dropout_15 (Dropout)        (None, 128)               0         \n",
      "                                                                 \n",
      " dense_15 (Dense)            (None, 64)                8256      \n",
      "                                                                 \n",
      " dropout_16 (Dropout)        (None, 64)                0         \n",
      "                                                                 \n",
      " dense_16 (Dense)            (None, 32)                2080      \n",
      "                                                                 \n",
      " dropout_17 (Dropout)        (None, 32)                0         \n",
      "                                                                 \n",
      " dense_17 (Dense)            (None, 4)                 132       \n",
      "                                                                 \n",
      "=================================================================\n",
      "Total params: 195684 (764.39 KB)\n",
      "Trainable params: 195684 (764.39 KB)\n",
      "Non-trainable params: 0 (0.00 Byte)\n",
      "_________________________________________________________________\n",
      "Epoch 1/10\n",
      "107/107 [==============================] - 0s 3ms/step - loss: 1.2531 - accuracy: 0.4266 - val_loss: 0.9699 - val_accuracy: 0.7588\n",
      "Epoch 2/10\n",
      "107/107 [==============================] - 0s 2ms/step - loss: 0.9098 - accuracy: 0.6492 - val_loss: 0.5251 - val_accuracy: 0.8451\n",
      "Epoch 3/10\n",
      "107/107 [==============================] - 0s 2ms/step - loss: 0.6994 - accuracy: 0.7383 - val_loss: 0.4092 - val_accuracy: 0.8650\n",
      "Epoch 4/10\n",
      "107/107 [==============================] - 0s 3ms/step - loss: 0.6388 - accuracy: 0.7656 - val_loss: 0.3585 - val_accuracy: 0.8768\n",
      "Epoch 5/10\n",
      "107/107 [==============================] - 0s 2ms/step - loss: 0.6049 - accuracy: 0.7702 - val_loss: 0.3400 - val_accuracy: 0.8820\n",
      "Epoch 6/10\n",
      "107/107 [==============================] - 0s 3ms/step - loss: 0.5833 - accuracy: 0.7833 - val_loss: 0.3286 - val_accuracy: 0.8903\n",
      "Epoch 7/10\n",
      "107/107 [==============================] - 0s 3ms/step - loss: 0.5555 - accuracy: 0.7927 - val_loss: 0.2921 - val_accuracy: 0.8955\n",
      "Epoch 8/10\n",
      "107/107 [==============================] - 0s 3ms/step - loss: 0.5388 - accuracy: 0.7991 - val_loss: 0.2853 - val_accuracy: 0.8996\n",
      "Epoch 9/10\n",
      "107/107 [==============================] - 0s 3ms/step - loss: 0.5183 - accuracy: 0.8019 - val_loss: 0.2707 - val_accuracy: 0.9114\n",
      "Epoch 10/10\n",
      "107/107 [==============================] - 0s 3ms/step - loss: 0.4918 - accuracy: 0.8165 - val_loss: 0.2477 - val_accuracy: 0.9202\n",
      "Validation Accuracy 0.920187771320343\n"
     ]
    },
    {
     "data": {
      "image/png": "[encoded data removed]",
      "text/plain": [
       "<Figure size 1200x600 with 1 Axes>"
      ]
     },
     "metadata": {},
     "output_type": "display_data"
    },
    {
     "name": "stdout",
     "output_type": "stream",
     "text": [
      "89/89 - 0s - loss: 0.2134 - accuracy: 0.9363 - 70ms/epoch - 784us/step\n",
      "\n",
      "Test accuracy: 0.936267614364624\n",
      "12/12 [==============================] - 0s 2ms/step - loss: 0.2134 - accuracy: 0.9363\n",
      "The test loss is  0.2133515477180481\n",
      "The best accuracy is:  93.6267614364624\n",
      "89/89 [==============================] - 0s 592us/step\n",
      "Expected label: [1 2 3 ... 1 1 3], Predicted label: [1 3 3 ... 1 1 3]\n"
     ]
    }
   ],
   "source": [
    "label = 'mood'\n",
    "# 數據集CSV路徑\n",
    "dataset_path = f'/Users/phoebe/DJ-Box_model/input/{label}_feature.csv'\n",
    "\n",
    "# 載入資料集\n",
    "X, y = LoadDataset(dataset_path)\n",
    "\n",
    "# 編碼標籤資料\n",
    "convertor = LabelEncoder()\n",
    "y = convertor.fit_transform(y)\n",
    "\n",
    "# 標準化資料集\n",
    "scaler = StandardScaler()\n",
    "X = scaler.fit_transform(np.array(X, dtype = float))\n",
    "\n",
    "# 分成訓練集、測試集、驗證集\n",
    "X_train, X_test, y_train, y_test = train_test_split(X, y, test_size=0.25)\n",
    "X_train, X_validation, y_train, y_validation = train_test_split(X_train, y_train, test_size=0.2)\n",
    "\n",
    "# 創建卷積神經網絡\n",
    "model = CNN(X_train)\n",
    "\n",
    "optimiser = keras.optimizers.Adam(learning_rate=0.000146)\n",
    "model.compile(optimizer=optimiser,\n",
    "              loss='sparse_categorical_crossentropy',\n",
    "              metrics=['accuracy'])\n",
    "\n",
    "model.summary()\n",
    "\n",
    "# 訓練模型\n",
    "history = model.fit(X_train, \n",
    "                    y_train, \n",
    "                    validation_data=(X_validation, y_validation), \n",
    "                    batch_size=64, \n",
    "                    epochs=10)\n",
    "\n",
    "\n",
    "\n",
    "# 繪製圖形\n",
    "ValidationPlot(history)\n",
    "\n",
    "# 在測試集上評估模型\n",
    "test_loss, test_acc = model.evaluate(X_test, y_test, verbose=2)\n",
    "print('\\nTest accuracy:', test_acc)\n",
    "\n",
    "test_loss, test_acc = model.evaluate(X_test,y_test,batch_size=256)\n",
    "print(\"The test loss is \", test_loss)\n",
    "print(\"The best accuracy is: \", test_acc * 100)\n",
    "\n",
    "# 測試樣本\n",
    "SamepleTest(model, X_test, y_test)"
   ]
  },
  {
   "cell_type": "code",
   "execution_count": 37,
   "metadata": {},
   "outputs": [
    {
     "name": "stderr",
     "output_type": "stream",
     "text": [
      "/Applications/anaconda3/envs/tensorflow/lib/python3.9/site-packages/keras/src/engine/training.py:3000: UserWarning: You are saving your model as an HDF5 file via `model.save()`. This file format is considered legacy. We recommend using instead the native Keras format, e.g. `model.save('my_model.keras')`.\n",
      "  saving_api.save_model(\n"
     ]
    }
   ],
   "source": [
    "model.build([1, 40])\n",
    "model.save(f'/Users/phoebe/DJ-Box_model/keras/{label}_classificasion_model.h5')"
   ]
  },
  {
   "cell_type": "code",
   "execution_count": 24,
   "metadata": {},
   "outputs": [
    {
     "name": "stdout",
     "output_type": "stream",
     "text": [
      "89/89 [==============================] - 0s 542us/step\n",
      "[[0.02648045 0.9351975  0.01489895 0.02342323]\n",
      " [0.00308601 0.00125673 0.17912647 0.8165308 ]\n",
      " [0.05608772 0.02015185 0.03360042 0.89016   ]\n",
      " ...\n",
      " [0.01839255 0.9704981  0.00599587 0.00511347]\n",
      " [0.12138735 0.70046055 0.0736794  0.10447273]\n",
      " [0.09382055 0.06934877 0.12722455 0.7096061 ]]\n",
      "['calm' 'energetic' 'happy' 'sad']\n",
      "Expected label: [1 2 3 ... 1 1 3], Predicted label: [1 3 3 ... 1 1 3]\n"
     ]
    }
   ],
   "source": [
    "# 執行預測\n",
    "prediction = model.predict(X_test)\n",
    "print(prediction)\n",
    "\n",
    "# labels = convertor.inverse_transform([0,1,2,3,4,5,6,7])\n",
    "labels = convertor.inverse_transform([0,1,2,3])\n",
    "print(labels)\n",
    "\n",
    "# get index with max value\n",
    "predicted_index = np.argmax(prediction, axis=1)\n",
    "\n",
    "print(\"Expected label: {}, Predicted label: {}\".format(y_test, predicted_index))"
   ]
  },
  {
   "cell_type": "code",
   "execution_count": null,
   "metadata": {},
   "outputs": [],
   "source": []
  }
 ],
 "metadata": {
  "kernelspec": {
   "display_name": "Python 3 (ipykernel)",
   "language": "python",
   "name": "python3"
  },
  "language_info": {
   "codemirror_mode": {
    "name": "ipython",
    "version": 3
   },
   "file_extension": ".py",
   "mimetype": "text/x-python",
   "name": "python",
   "nbconvert_exporter": "python",
   "pygments_lexer": "ipython3",
   "version": "3.9.16"
  }
 },
 "nbformat": 4,
 "nbformat_minor": 4
}
