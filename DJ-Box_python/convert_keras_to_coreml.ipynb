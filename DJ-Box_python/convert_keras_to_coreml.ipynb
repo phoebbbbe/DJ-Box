{
 "cells": [
  {
   "cell_type": "code",
   "execution_count": 115,
   "id": "7c0d8e0e",
   "metadata": {},
   "outputs": [],
   "source": [
    "import tensorflow as tf\n",
    "import coremltools as ct\n",
    "from coremltools.proto import FeatureTypes_pb2\n",
    "import h5py"
   ]
  },
  {
   "cell_type": "code",
   "execution_count": 117,
   "id": "a7d3f245",
   "metadata": {},
   "outputs": [
    {
     "ename": "AttributeError",
     "evalue": "module 'coremltools' has no attribute 'Dictionary'",
     "output_type": "error",
     "traceback": [
      "\u001b[0;31m---------------------------------------------------------------------------\u001b[0m",
      "\u001b[0;31mAttributeError\u001b[0m                            Traceback (most recent call last)",
      "Cell \u001b[0;32mIn[117], line 13\u001b[0m\n\u001b[1;32m      8\u001b[0m class_labels \u001b[38;5;241m=\u001b[39m [\u001b[38;5;124m\"\u001b[39m\u001b[38;5;124menergetic\u001b[39m\u001b[38;5;124m\"\u001b[39m, \u001b[38;5;124m\"\u001b[39m\u001b[38;5;124mhappy\u001b[39m\u001b[38;5;124m\"\u001b[39m, \u001b[38;5;124m\"\u001b[39m\u001b[38;5;124mcalm\u001b[39m\u001b[38;5;124m\"\u001b[39m, \u001b[38;5;124m\"\u001b[39m\u001b[38;5;124msad\u001b[39m\u001b[38;5;124m\"\u001b[39m]\n\u001b[1;32m     10\u001b[0m \u001b[38;5;66;03m# Convert output probabilities to a dictionary description\u001b[39;00m\n\u001b[1;32m     11\u001b[0m output_description \u001b[38;5;241m=\u001b[39m {\n\u001b[1;32m     12\u001b[0m     \u001b[38;5;124m'\u001b[39m\u001b[38;5;124mclassLabel\u001b[39m\u001b[38;5;124m'\u001b[39m: \u001b[38;5;124m'\u001b[39m\u001b[38;5;124mstring\u001b[39m\u001b[38;5;124m'\u001b[39m,\n\u001b[0;32m---> 13\u001b[0m     \u001b[38;5;124m'\u001b[39m\u001b[38;5;124mclassLabelProbs\u001b[39m\u001b[38;5;124m'\u001b[39m: \u001b[43mct\u001b[49m\u001b[38;5;241;43m.\u001b[39;49m\u001b[43mDictionary\u001b[49m(\u001b[38;5;28mstr\u001b[39m, \u001b[38;5;28mfloat\u001b[39m),\n\u001b[1;32m     14\u001b[0m }\n\u001b[1;32m     16\u001b[0m \u001b[38;5;66;03m# Modify the model's output description\u001b[39;00m\n\u001b[1;32m     17\u001b[0m model\u001b[38;5;241m.\u001b[39moutput_description[\u001b[38;5;124m'\u001b[39m\u001b[38;5;124moutput\u001b[39m\u001b[38;5;124m'\u001b[39m] \u001b[38;5;241m=\u001b[39m ct\u001b[38;5;241m.\u001b[39mFeatureDescription(\n\u001b[1;32m     18\u001b[0m     name\u001b[38;5;241m=\u001b[39m\u001b[38;5;124m'\u001b[39m\u001b[38;5;124moutput\u001b[39m\u001b[38;5;124m'\u001b[39m,\n\u001b[1;32m     19\u001b[0m     \u001b[38;5;28mtype\u001b[39m\u001b[38;5;241m=\u001b[39mct\u001b[38;5;241m.\u001b[39mFeatureTypes(\n\u001b[1;32m     20\u001b[0m         feature\u001b[38;5;241m=\u001b[39moutput_description\n\u001b[1;32m     21\u001b[0m     )\n\u001b[1;32m     22\u001b[0m )\n",
      "\u001b[0;31mAttributeError\u001b[0m: module 'coremltools' has no attribute 'Dictionary'"
     ]
    }
   ],
   "source": [
    "# 載入模型\n",
    "model = tf.keras.models.load_model('/Users/phoebe/DJ-Box_model/keras/mood_classificasion_model_v2.h5')\n",
    "\n",
    "# 定義輸入規格\n",
    "input_shape = (1, 40)\n",
    "\n",
    "# Define output classes\n",
    "class_labels = [\"energetic\", \"happy\", \"calm\", \"sad\"]\n",
    "\n",
    "# Convert output probabilities to a dictionary description\n",
    "output_description = {\n",
    "    'classLabel': 'string',\n",
    "    'classLabelProbs': ct.Dictionary(str, float),\n",
    "}\n",
    "\n",
    "# Modify the model's output description\n",
    "model.output_description['output'] = ct.FeatureDescription(\n",
    "    name='output',\n",
    "    type=ct.FeatureTypes(\n",
    "        feature=output_description\n",
    "    )\n",
    ")\n",
    "\n",
    "# 轉換為 Core ML 模型\n",
    "coreml_model = ct.convert(model, inputs=[input_description])\n",
    "\n",
    "# 儲存 Core ML 模型\n",
    "coreml_model.save('/Users/phoebe/DJ-Box_model/coreml/MoodCNNClassifier.mlmodel')"
   ]
  },
  {
   "cell_type": "code",
   "execution_count": 3,
   "id": "ab5878e2",
   "metadata": {},
   "outputs": [
    {
     "name": "stdout",
     "output_type": "stream",
     "text": [
      "input {\n",
      "  name: \"flatten_13_input\"\n",
      "  type {\n",
      "    multiArrayType {\n",
      "      shape: 1\n",
      "      shape: 40\n",
      "      dataType: FLOAT32\n",
      "    }\n",
      "  }\n",
      "}\n",
      "output {\n",
      "  name: \"Identity\"\n",
      "  type {\n",
      "    multiArrayType {\n",
      "      dataType: FLOAT32\n",
      "    }\n",
      "  }\n",
      "}\n",
      "metadata {\n",
      "  userDefined {\n",
      "    key: \"com.github.apple.coremltools.source\"\n",
      "    value: \"tensorflow==2.13.0-rc0\"\n",
      "  }\n",
      "  userDefined {\n",
      "    key: \"com.github.apple.coremltools.version\"\n",
      "    value: \"6.3.0\"\n",
      "  }\n",
      "}\n",
      "\n"
     ]
    }
   ],
   "source": [
    "print(coreml_model)"
   ]
  }
 ],
 "metadata": {
  "kernelspec": {
   "display_name": "Python 3 (ipykernel)",
   "language": "python",
   "name": "python3"
  },
  "language_info": {
   "codemirror_mode": {
    "name": "ipython",
    "version": 3
   },
   "file_extension": ".py",
   "mimetype": "text/x-python",
   "name": "python",
   "nbconvert_exporter": "python",
   "pygments_lexer": "ipython3",
   "version": "3.9.16"
  }
 },
 "nbformat": 4,
 "nbformat_minor": 5
}
