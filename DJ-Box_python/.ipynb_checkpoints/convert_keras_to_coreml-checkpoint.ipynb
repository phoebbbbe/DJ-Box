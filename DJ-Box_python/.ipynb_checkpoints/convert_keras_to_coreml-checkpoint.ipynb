{
 "cells": [
  {
   "cell_type": "code",
   "execution_count": 46,
   "id": "7c0d8e0e",
   "metadata": {},
   "outputs": [],
   "source": [
    "import tensorflow as tf\n",
    "import coremltools as ct"
   ]
  },
  {
   "cell_type": "markdown",
   "id": "5f3dc686",
   "metadata": {},
   "source": [
    "### Convert Mood Model"
   ]
  },
  {
   "cell_type": "code",
   "execution_count": 49,
   "id": "a7d3f245",
   "metadata": {
    "scrolled": true
   },
   "outputs": [
    {
     "name": "stderr",
     "output_type": "stream",
     "text": [
      "Running TensorFlow Graph Passes: 100%|███████| 6/6 [00:00<00:00, 66.38 passes/s]\n",
      "Converting TF Frontend ==> MIL Ops: 100%|███| 34/34 [00:00<00:00, 6024.01 ops/s]\n",
      "Running MIL frontend_tensorflow2 pipeline: 100%|█| 7/7 [00:00<00:00, 12655.23 pa\n",
      "Running MIL default pipeline: 100%|██████| 56/56 [00:00<00:00, 3167.43 passes/s]\n",
      "Running MIL backend_neuralnetwork pipeline: 100%|█| 8/8 [00:00<00:00, 28703.53 p\n",
      "Translating MIL ==> NeuralNetwork Ops: 100%|█| 25/25 [00:00<00:00, 2843.75 ops/s\n"
     ]
    }
   ],
   "source": [
    "# 載入模型\n",
    "model = tf.keras.models.load_model('./keras/mood_classificasion_model.h5')\n",
    "\n",
    "# 轉換為 Core ML 模型\n",
    "coreml_model = ct.convert(model)\n",
    "\n",
    "# 儲存 Core ML 模型\n",
    "coreml_model.save('./coreml/MoodCNNClassifier_test.mlmodel')"
   ]
  },
  {
   "cell_type": "code",
   "execution_count": 50,
   "id": "ab5878e2",
   "metadata": {},
   "outputs": [
    {
     "name": "stdout",
     "output_type": "stream",
     "text": [
      "input {\n",
      "  name: \"flatten_8_input\"\n",
      "  type {\n",
      "    multiArrayType {\n",
      "      shape: 1\n",
      "      shape: 40\n",
      "      dataType: FLOAT32\n",
      "      shapeRange {\n",
      "        sizeRanges {\n",
      "          lowerBound: 1\n",
      "          upperBound: -1\n",
      "        }\n",
      "        sizeRanges {\n",
      "          lowerBound: 40\n",
      "          upperBound: 40\n",
      "        }\n",
      "      }\n",
      "    }\n",
      "  }\n",
      "}\n",
      "output {\n",
      "  name: \"Identity\"\n",
      "  type {\n",
      "    multiArrayType {\n",
      "      dataType: FLOAT32\n",
      "    }\n",
      "  }\n",
      "}\n",
      "metadata {\n",
      "  userDefined {\n",
      "    key: \"com.github.apple.coremltools.source\"\n",
      "    value: \"tensorflow==2.13.0-rc0\"\n",
      "  }\n",
      "  userDefined {\n",
      "    key: \"com.github.apple.coremltools.version\"\n",
      "    value: \"6.3.0\"\n",
      "  }\n",
      "}\n",
      "\n"
     ]
    }
   ],
   "source": [
    "print(coreml_model)"
   ]
  },
  {
   "cell_type": "markdown",
   "id": "74bcfec0",
   "metadata": {},
   "source": [
    "### Convert Occasion Model"
   ]
  },
  {
   "cell_type": "code",
   "execution_count": 53,
   "id": "6d8872a3",
   "metadata": {},
   "outputs": [
    {
     "name": "stderr",
     "output_type": "stream",
     "text": [
      "Running TensorFlow Graph Passes: 100%|███████| 6/6 [00:00<00:00, 49.94 passes/s]\n",
      "Converting TF Frontend ==> MIL Ops: 100%|███| 34/34 [00:00<00:00, 2801.37 ops/s]\n",
      "Running MIL frontend_tensorflow2 pipeline: 100%|█| 7/7 [00:00<00:00, 15802.01 pa\n",
      "Running MIL default pipeline: 100%|██████| 56/56 [00:00<00:00, 1824.53 passes/s]\n",
      "Running MIL backend_neuralnetwork pipeline: 100%|█| 8/8 [00:00<00:00, 12576.62 p\n",
      "Translating MIL ==> NeuralNetwork Ops: 100%|█| 25/25 [00:00<00:00, 2412.63 ops/s\n"
     ]
    }
   ],
   "source": [
    "# 載入模型\n",
    "model = tf.keras.models.load_model('./keras/occasion_classificasion_model.h5')\n",
    "\n",
    "# 轉換為 Core ML 模型\n",
    "coreml_model = ct.convert(model)\n",
    "\n",
    "# 儲存 Core ML 模型\n",
    "coreml_model.save('./coreml/OccasionCNNClassifier_test.mlmodel')"
   ]
  },
  {
   "cell_type": "code",
   "execution_count": 54,
   "id": "47afe19d",
   "metadata": {},
   "outputs": [
    {
     "name": "stdout",
     "output_type": "stream",
     "text": [
      "input {\n",
      "  name: \"flatten_13_input\"\n",
      "  type {\n",
      "    multiArrayType {\n",
      "      shape: 1\n",
      "      shape: 40\n",
      "      dataType: FLOAT32\n",
      "      shapeRange {\n",
      "        sizeRanges {\n",
      "          lowerBound: 1\n",
      "          upperBound: -1\n",
      "        }\n",
      "        sizeRanges {\n",
      "          lowerBound: 40\n",
      "          upperBound: 40\n",
      "        }\n",
      "      }\n",
      "    }\n",
      "  }\n",
      "}\n",
      "output {\n",
      "  name: \"Identity\"\n",
      "  type {\n",
      "    multiArrayType {\n",
      "      dataType: FLOAT32\n",
      "    }\n",
      "  }\n",
      "}\n",
      "metadata {\n",
      "  userDefined {\n",
      "    key: \"com.github.apple.coremltools.source\"\n",
      "    value: \"tensorflow==2.13.0-rc0\"\n",
      "  }\n",
      "  userDefined {\n",
      "    key: \"com.github.apple.coremltools.version\"\n",
      "    value: \"6.3.0\"\n",
      "  }\n",
      "}\n",
      "\n"
     ]
    }
   ],
   "source": [
    "print(coreml_model)"
   ]
  }
 ],
 "metadata": {
  "kernelspec": {
   "display_name": "Python 3 (ipykernel)",
   "language": "python",
   "name": "python3"
  },
  "language_info": {
   "codemirror_mode": {
    "name": "ipython",
    "version": 3
   },
   "file_extension": ".py",
   "mimetype": "text/x-python",
   "name": "python",
   "nbconvert_exporter": "python",
   "pygments_lexer": "ipython3",
   "version": "3.9.16"
  }
 },
 "nbformat": 4,
 "nbformat_minor": 5
}
