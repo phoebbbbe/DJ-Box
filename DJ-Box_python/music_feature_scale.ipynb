{
 "cells": [
  {
   "cell_type": "code",
   "execution_count": 7,
   "id": "52c3ed73",
   "metadata": {},
   "outputs": [],
   "source": [
    "import numpy as np\n",
    "import pandas as pd\n",
    "from sklearn.preprocessing import StandardScaler"
   ]
  },
  {
   "cell_type": "code",
   "execution_count": 8,
   "id": "45773333",
   "metadata": {},
   "outputs": [],
   "source": [
    "df = pd.read_csv('/Users/phoebe/DJ-Box_model/input/songs_feature_v3.csv')"
   ]
  },
  {
   "cell_type": "code",
   "execution_count": 9,
   "id": "b25a4ca2",
   "metadata": {},
   "outputs": [
    {
     "name": "stdout",
     "output_type": "stream",
     "text": [
      "0      2601.503831\n",
      "1      2731.589601\n",
      "2      1980.820051\n",
      "3      2555.995061\n",
      "4      1845.872044\n",
      "          ...     \n",
      "239    2271.345624\n",
      "240    2324.231695\n",
      "241    1934.374440\n",
      "242    2447.876734\n",
      "243    3021.637606\n",
      "Name: centroid_mean, Length: 244, dtype: float64\n"
     ]
    }
   ],
   "source": [
    "print(df.iloc[:,4])"
   ]
  },
  {
   "cell_type": "code",
   "execution_count": 10,
   "id": "f30fbe64",
   "metadata": {},
   "outputs": [],
   "source": [
    "scaler = StandardScaler()\n",
    "df.iloc[:,4:] = pd.DataFrame(scaler.fit_transform(np.array(df.iloc[:,4:], dtype = np.float32)))"
   ]
  },
  {
   "cell_type": "code",
   "execution_count": 11,
   "id": "79287a9f",
   "metadata": {},
   "outputs": [
    {
     "name": "stdout",
     "output_type": "stream",
     "text": [
      "0      0.443470\n",
      "1      0.849397\n",
      "2     -1.493351\n",
      "3      0.301461\n",
      "4     -1.914451\n",
      "         ...   \n",
      "239   -0.586776\n",
      "240   -0.421748\n",
      "241   -1.638283\n",
      "242   -0.035918\n",
      "243    1.754482\n",
      "Name: centroid_mean, Length: 244, dtype: float64\n"
     ]
    }
   ],
   "source": [
    "print(df.iloc[:,4])"
   ]
  },
  {
   "cell_type": "code",
   "execution_count": 12,
   "id": "e71ce684",
   "metadata": {},
   "outputs": [],
   "source": [
    "csv_path = '/Users/phoebe/DJ-Box_model/input/songs_scale_feature_v3.csv'\n",
    "\n",
    "df = df.drop(labels=\"Unnamed: 0\", axis=1)\n",
    "df.to_csv(csv_path)"
   ]
  },
  {
   "cell_type": "code",
   "execution_count": null,
   "id": "b43f429d",
   "metadata": {},
   "outputs": [],
   "source": []
  }
 ],
 "metadata": {
  "kernelspec": {
   "display_name": "Python 3 (ipykernel)",
   "language": "python",
   "name": "python3"
  },
  "language_info": {
   "codemirror_mode": {
    "name": "ipython",
    "version": 3
   },
   "file_extension": ".py",
   "mimetype": "text/x-python",
   "name": "python",
   "nbconvert_exporter": "python",
   "pygments_lexer": "ipython3",
   "version": "3.9.16"
  }
 },
 "nbformat": 4,
 "nbformat_minor": 5
}
